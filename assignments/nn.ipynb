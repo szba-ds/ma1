{
 "cells": [
  {
   "cell_type": "markdown",
   "metadata": {},
   "source": [
    "# Mandatory Assignment 1\n",
    "\n",
    "#### Part I: Multi-layer Perceptron\n",
    "\n",
    "***\n",
    "\n",
    "Please see the description of the assignment in the README file (section 1) <br>\n",
    "**Guide notebook**: [material/nns_pytorch.ipynb](material/nns_pytorch.ipynb)\n",
    "\n",
    "Table of contents:\n",
    "1. Activate GPU\n",
    "2. Load data\n",
    "3. Inspect data\n",
    "4. Artificial neural network (**Where you will implement the ANN**)\n",
    "5. Training hyperparameters (**Where you will add training parameters**)\n",
    "6. Training\n",
    "7. Plot loss and accuracy\n",
    "8. Evaluate\n"
   ]
  },
  {
   "cell_type": "code",
   "execution_count": 1,
   "metadata": {},
   "outputs": [],
   "source": [
    "# auxilary imports\n",
    "import random\n",
    "import matplotlib.pyplot as plt\n",
    "import os\n",
    "from pathlib import Path\n",
    "\n",
    "# pytorch\n",
    "import torch\n",
    "import torch.nn as nn\n",
    "from torchvision import transforms\n",
    "import torch.nn.functional as F  # noqa"
   ]
  },
  {
   "cell_type": "markdown",
   "metadata": {},
   "source": [
    "First, a bit of a hack in case your IDE wants to run the notebook from /`assignment/` and not the project root folder `/ma1`. We need the working directory to be `/ma1` for local imports to work."
   ]
  },
  {
   "cell_type": "code",
   "execution_count": 2,
   "metadata": {},
   "outputs": [
    {
     "name": "stdout",
     "output_type": "stream",
     "text": [
      "Working directory set to: /Users/nicolai/Desktop/cbs/aiml25/ma1\n"
     ]
    }
   ],
   "source": [
    "# Ensure the working directory is set to the \"ma1\" folder.\n",
    "while Path.cwd().name != \"ma1\" and \"ma1\" in str(Path.cwd()):\n",
    "    os.chdir(\"..\")  # Move up one directory\n",
    "print(f\"Working directory set to: {Path.cwd()}\")"
   ]
  },
  {
   "cell_type": "markdown",
   "metadata": {},
   "source": [
    "##### Import local files\n",
    "\n",
    "To declutter the notebooks, your are given a module (`/src`) of useful functions. Please study each one as they contain important code (particularly `src.training` and `src.evaluation`). "
   ]
  },
  {
   "cell_type": "code",
   "execution_count": 3,
   "metadata": {},
   "outputs": [],
   "source": [
    "# local files\n",
    "from src.utils import get_device\n",
    "from src.data import load_torch_data, to_dataloader, train_val_split\n",
    "from src.training import fit\n",
    "from src.evaluation import evaluate\n",
    "from src.visualize import plot_training_history"
   ]
  },
  {
   "cell_type": "markdown",
   "metadata": {},
   "source": [
    "### 1. Activate GPU\n",
    "If available. Note that this is not necessary, but it will speed up your training."
   ]
  },
  {
   "cell_type": "code",
   "execution_count": 4,
   "metadata": {},
   "outputs": [
    {
     "name": "stdout",
     "output_type": "stream",
     "text": [
      "Running pytorch version (2.5.1) with backend = mps\n"
     ]
    }
   ],
   "source": [
    "# Device will determine whether to run the training on GPU or CPU.\n",
    "DEVICE = get_device()"
   ]
  },
  {
   "cell_type": "markdown",
   "metadata": {},
   "source": [
    "### 2. Load data"
   ]
  },
  {
   "cell_type": "code",
   "execution_count": 6,
   "metadata": {},
   "outputs": [
    {
     "data": {
      "text/plain": [
       "'len(train_val)=60000, len(test)=10000'"
      ]
     },
     "execution_count": 6,
     "metadata": {},
     "output_type": "execute_result"
    }
   ],
   "source": [
    "# load the training/validation data\n",
    "train_val = load_torch_data(\n",
    "    dataset=\"MNIST\",\n",
    "    root = 'data',                     # The root directory where the dataset will be stored\n",
    "    download = True,                   # If the dataset is not found at root, it will be downloaded\n",
    "    train = True,                      # The train dataset (as opposed to the test dataset)\n",
    "    transform = transforms.ToTensor()  # transformations to be applied to the dataset (only cast to tensor)\n",
    ")\n",
    "\n",
    "# load the testing data\n",
    "test = load_torch_data(\n",
    "    dataset = \"MNIST\",\n",
    "    root = 'data',\n",
    "    download = True,\n",
    "    train = False,\n",
    "    transform = transforms.ToTensor()\n",
    ")\n",
    "\n",
    "f\"{len(train_val)=}, {len(test)=}\""
   ]
  },
  {
   "cell_type": "code",
   "execution_count": 7,
   "metadata": {},
   "outputs": [
    {
     "data": {
      "text/plain": [
       "'len(val)=12000, len(train)=48000'"
      ]
     },
     "execution_count": 7,
     "metadata": {},
     "output_type": "execute_result"
    }
   ],
   "source": [
    "# split training data in training and validation (just like train_test_split in sklearn)\n",
    "train, val = train_val_split(train_val, val_ratio=0.2, seed=42)\n",
    "\n",
    "f\"{len(val)=}, {len(train)=}\""
   ]
  },
  {
   "cell_type": "code",
   "execution_count": 8,
   "metadata": {},
   "outputs": [],
   "source": [
    "# create dataloders for easy batch loading during training\n",
    "train_loader = to_dataloader(train, batch_size = 64, shuffle = True)\n",
    "val_loader = to_dataloader(val, batch_size = 64, shuffle = False)\n",
    "test_loader = to_dataloader(test, batch_size = 64, shuffle = False)"
   ]
  },
  {
   "cell_type": "markdown",
   "metadata": {},
   "source": [
    "### 3. Inspect data"
   ]
  },
  {
   "cell_type": "code",
   "execution_count": 12,
   "metadata": {},
   "outputs": [
    {
     "name": "stdout",
     "output_type": "stream",
     "text": [
      "Default image shape: torch.Size([1, 28, 28])\n",
      "Reshaped image shape: torch.Size([28, 28])\n",
      "Total pixels: 784\n",
      "The label for this image: 6\n"
     ]
    },
    {
     "data": {
      "image/png": "[encoded data removed]",
      "text/plain": [
       "<Figure size 640x480 with 1 Axes>"
      ]
     },
     "metadata": {},
     "output_type": "display_data"
    }
   ],
   "source": [
    "# Pick a random example from the training set\n",
    "selection = random.randrange(len(train)-1)\n",
    "image, label = train[selection]\n",
    "\n",
    "# Plot the image\n",
    "print(f\"Default image shape: {image.shape}\")\n",
    "image = image.view([28,28])\n",
    "\n",
    "print(f\"Reshaped image shape: {image.shape}\")\n",
    "plt.imshow(image, cmap=\"gray\")\n",
    "\n",
    "print(f\"Total pixels: {image.shape[0] * image.shape[1]}\")\n",
    "\n",
    "# Print the label\n",
    "print(f\"The label for this image: {label}\")\n"
   ]
  },
  {
   "cell_type": "markdown",
   "metadata": {},
   "source": [
    "***\n",
    "\n",
    "### 4. Artificial neural network"
   ]
  },
  {
   "cell_type": "code",
   "execution_count": 25,
   "metadata": {},
   "outputs": [],
   "source": [
    "class MLP(nn.Module):\n",
    "\n",
    "  def __init__(self):\n",
    "    super().__init__()\n",
    "\n",
    "    # TODO: define layers\n",
    "    self.fc1 = nn.Linear(28*28, 500)\n",
    "    self.fc2 = nn.Linear(500, 10)\n",
    "    self.relu = nn.ReLU()\n",
    "    \n",
    "  \n",
    "  def forward(self, x : torch.Tensor):\n",
    "\n",
    "    # \n",
    "    x = self.relu(self.fc1(x))\n",
    "    x = self.fc2(x)\n",
    "\n",
    "    return x"
   ]
  },
  {
   "cell_type": "markdown",
   "metadata": {},
   "source": [
    "### 5. Training hyperparameters"
   ]
  },
  {
   "cell_type": "code",
   "execution_count": 26,
   "metadata": {},
   "outputs": [],
   "source": [
    "LR = 0.01  # TODO: define the learning rate\n",
    "NUM_EPOCHS = 30 # TODO: define the number of epochs (i.e. passes over the dataset)\n",
    "criterion = nn.CrossEntropyLoss()  # The loss function"
   ]
  },
  {
   "cell_type": "markdown",
   "metadata": {},
   "source": [
    "Instantiate the model and optimizer"
   ]
  },
  {
   "cell_type": "code",
   "execution_count": 27,
   "metadata": {},
   "outputs": [],
   "source": [
    "model = MLP().to(DEVICE)   # Create an instance of the MLP model and move it to device (GPU or CPU)\n",
    "optimizer = torch.optim.SGD(model.parameters(), lr=LR) # The optimizer (here, SGD - you can also try ADAM)"
   ]
  },
  {
   "cell_type": "code",
   "execution_count": 28,
   "metadata": {},
   "outputs": [
    {
     "data": {
      "text/plain": [
       "MLP(\n",
       "  (fc1): Linear(in_features=784, out_features=500, bias=True)\n",
       "  (fc2): Linear(in_features=500, out_features=10, bias=True)\n",
       "  (relu): ReLU()\n",
       ")"
      ]
     },
     "execution_count": 28,
     "metadata": {},
     "output_type": "execute_result"
    }
   ],
   "source": [
    "model"
   ]
  },
  {
   "cell_type": "markdown",
   "metadata": {},
   "source": [
    "### 6. Training"
   ]
  },
  {
   "cell_type": "code",
   "execution_count": 29,
   "metadata": {},
   "outputs": [
    {
     "name": "stdout",
     "output_type": "stream",
     "text": [
      "Epoch [1/30]: Train Loss: 1.3038 | Train Accuracy: 75.13% | Val Loss: 0.6770 | Val Accuracy: 84.92%\n",
      "Epoch [2/30]: Train Loss: 0.5347 | Train Accuracy: 86.81% | Val Loss: 0.4651 | Val Accuracy: 87.78%\n",
      "Epoch [3/30]: Train Loss: 0.4155 | Train Accuracy: 88.92% | Val Loss: 0.4001 | Val Accuracy: 88.97%\n",
      "Epoch [4/30]: Train Loss: 0.3678 | Train Accuracy: 89.81% | Val Loss: 0.3692 | Val Accuracy: 89.53%\n",
      "Epoch [5/30]: Train Loss: 0.3401 | Train Accuracy: 90.53% | Val Loss: 0.3498 | Val Accuracy: 89.98%\n",
      "Epoch [6/30]: Train Loss: 0.3206 | Train Accuracy: 90.94% | Val Loss: 0.3315 | Val Accuracy: 90.47%\n",
      "Epoch [7/30]: Train Loss: 0.3055 | Train Accuracy: 91.33% | Val Loss: 0.3178 | Val Accuracy: 91.02%\n",
      "Epoch [8/30]: Train Loss: 0.2928 | Train Accuracy: 91.74% | Val Loss: 0.3081 | Val Accuracy: 91.33%\n",
      "Epoch [9/30]: Train Loss: 0.2815 | Train Accuracy: 92.12% | Val Loss: 0.2989 | Val Accuracy: 91.48%\n",
      "Epoch [10/30]: Train Loss: 0.2710 | Train Accuracy: 92.34% | Val Loss: 0.2894 | Val Accuracy: 91.89%\n",
      "Epoch [11/30]: Train Loss: 0.2617 | Train Accuracy: 92.61% | Val Loss: 0.2796 | Val Accuracy: 92.18%\n",
      "Epoch [12/30]: Train Loss: 0.2529 | Train Accuracy: 92.90% | Val Loss: 0.2718 | Val Accuracy: 92.27%\n",
      "Epoch [13/30]: Train Loss: 0.2446 | Train Accuracy: 93.21% | Val Loss: 0.2658 | Val Accuracy: 92.54%\n",
      "Epoch [14/30]: Train Loss: 0.2369 | Train Accuracy: 93.41% | Val Loss: 0.2574 | Val Accuracy: 92.85%\n",
      "Epoch [15/30]: Train Loss: 0.2297 | Train Accuracy: 93.63% | Val Loss: 0.2517 | Val Accuracy: 92.92%\n",
      "Epoch [16/30]: Train Loss: 0.2230 | Train Accuracy: 93.81% | Val Loss: 0.2441 | Val Accuracy: 93.25%\n",
      "Epoch [17/30]: Train Loss: 0.2164 | Train Accuracy: 94.01% | Val Loss: 0.2379 | Val Accuracy: 93.41%\n",
      "Epoch [18/30]: Train Loss: 0.2101 | Train Accuracy: 94.18% | Val Loss: 0.2332 | Val Accuracy: 93.58%\n",
      "Epoch [19/30]: Train Loss: 0.2042 | Train Accuracy: 94.36% | Val Loss: 0.2271 | Val Accuracy: 93.74%\n",
      "Epoch [20/30]: Train Loss: 0.1985 | Train Accuracy: 94.53% | Val Loss: 0.2222 | Val Accuracy: 93.81%\n",
      "Epoch [21/30]: Train Loss: 0.1932 | Train Accuracy: 94.62% | Val Loss: 0.2168 | Val Accuracy: 93.94%\n",
      "Epoch [22/30]: Train Loss: 0.1880 | Train Accuracy: 94.77% | Val Loss: 0.2122 | Val Accuracy: 94.10%\n",
      "Epoch [23/30]: Train Loss: 0.1832 | Train Accuracy: 94.93% | Val Loss: 0.2075 | Val Accuracy: 94.18%\n",
      "Epoch [24/30]: Train Loss: 0.1784 | Train Accuracy: 95.06% | Val Loss: 0.2035 | Val Accuracy: 94.33%\n",
      "Epoch [25/30]: Train Loss: 0.1738 | Train Accuracy: 95.16% | Val Loss: 0.1994 | Val Accuracy: 94.38%\n",
      "Epoch [26/30]: Train Loss: 0.1696 | Train Accuracy: 95.28% | Val Loss: 0.1953 | Val Accuracy: 94.47%\n",
      "Epoch [27/30]: Train Loss: 0.1654 | Train Accuracy: 95.40% | Val Loss: 0.1910 | Val Accuracy: 94.54%\n",
      "Epoch [28/30]: Train Loss: 0.1614 | Train Accuracy: 95.55% | Val Loss: 0.1873 | Val Accuracy: 94.68%\n",
      "Epoch [29/30]: Train Loss: 0.1575 | Train Accuracy: 95.60% | Val Loss: 0.1848 | Val Accuracy: 94.78%\n",
      "Epoch [30/30]: Train Loss: 0.1539 | Train Accuracy: 95.76% | Val Loss: 0.1811 | Val Accuracy: 94.90%\n"
     ]
    }
   ],
   "source": [
    "model, history = fit(\n",
    "    model,\n",
    "    train_loader = train_loader,\n",
    "    val_loader = val_loader,\n",
    "    device = DEVICE,\n",
    "    optimizer = optimizer,\n",
    "    criterion = criterion,\n",
    "    num_epochs = NUM_EPOCHS\n",
    ")"
   ]
  },
  {
   "cell_type": "markdown",
   "metadata": {},
   "source": [
    "### 7. Plot loss and accuracy"
   ]
  },
  {
   "cell_type": "code",
   "execution_count": 30,
   "metadata": {},
   "outputs": [
    {
     "data": {
      "image/png": "[encoded data removed]",
      "text/plain": [
       "<Figure size 1200x600 with 2 Axes>"
      ]
     },
     "metadata": {},
     "output_type": "display_data"
    }
   ],
   "source": [
    "plot_training_history(history)"
   ]
  },
  {
   "cell_type": "markdown",
   "metadata": {},
   "source": [
    "### 8. Evaluate"
   ]
  },
  {
   "cell_type": "code",
   "execution_count": 31,
   "metadata": {},
   "outputs": [
    {
     "name": "stdout",
     "output_type": "stream",
     "text": [
      "Evaluation Results:\n",
      "Loss: 0.1507, Accuracy: 95.84%\n",
      "\n",
      "Classification Report:\n",
      "              precision    recall  f1-score   support\n",
      "\n",
      "           0       0.97      0.98      0.98      4735\n",
      "           1       0.97      0.98      0.97      5383\n",
      "           2       0.97      0.95      0.96      4762\n",
      "           3       0.95      0.94      0.95      4886\n",
      "           4       0.95      0.96      0.95      4681\n",
      "           5       0.95      0.95      0.95      4368\n",
      "           6       0.97      0.97      0.97      4752\n",
      "           7       0.97      0.96      0.97      4983\n",
      "           8       0.95      0.94      0.94      4674\n",
      "           9       0.94      0.94      0.94      4776\n",
      "\n",
      "    accuracy                           0.96     48000\n",
      "   macro avg       0.96      0.96      0.96     48000\n",
      "weighted avg       0.96      0.96      0.96     48000\n",
      "\n"
     ]
    }
   ],
   "source": [
    "evaluate(\n",
    "    model = model,\n",
    "    data_loader = train_loader,  # evaluate on training data\n",
    "    criterion = criterion,\n",
    "    device = DEVICE,\n",
    ")"
   ]
  },
  {
   "cell_type": "code",
   "execution_count": 32,
   "metadata": {},
   "outputs": [
    {
     "name": "stdout",
     "output_type": "stream",
     "text": [
      "Evaluation Results:\n",
      "Loss: 0.1811, Accuracy: 94.90%\n",
      "\n",
      "Classification Report:\n",
      "              precision    recall  f1-score   support\n",
      "\n",
      "           0       0.96      0.97      0.97      1188\n",
      "           1       0.97      0.97      0.97      1359\n",
      "           2       0.95      0.93      0.94      1196\n",
      "           3       0.94      0.94      0.94      1245\n",
      "           4       0.93      0.95      0.94      1161\n",
      "           5       0.94      0.95      0.95      1053\n",
      "           6       0.97      0.96      0.97      1166\n",
      "           7       0.95      0.97      0.96      1282\n",
      "           8       0.95      0.95      0.95      1177\n",
      "           9       0.93      0.90      0.92      1173\n",
      "\n",
      "    accuracy                           0.95     12000\n",
      "   macro avg       0.95      0.95      0.95     12000\n",
      "weighted avg       0.95      0.95      0.95     12000\n",
      "\n"
     ]
    }
   ],
   "source": [
    "evaluate(\n",
    "    model = model,\n",
    "    data_loader = val_loader,  # evaluate on validation data\n",
    "    criterion = criterion,\n",
    "    device = DEVICE,\n",
    ")"
   ]
  },
  {
   "cell_type": "code",
   "execution_count": 33,
   "metadata": {},
   "outputs": [
    {
     "name": "stdout",
     "output_type": "stream",
     "text": [
      "Evaluation Results:\n",
      "Loss: 0.1584, Accuracy: 95.41%\n",
      "\n",
      "Classification Report:\n",
      "              precision    recall  f1-score   support\n",
      "\n",
      "           0       0.96      0.98      0.97       980\n",
      "           1       0.98      0.98      0.98      1135\n",
      "           2       0.96      0.95      0.95      1032\n",
      "           3       0.94      0.96      0.95      1010\n",
      "           4       0.95      0.96      0.95       982\n",
      "           5       0.95      0.94      0.95       892\n",
      "           6       0.95      0.96      0.96       958\n",
      "           7       0.95      0.94      0.95      1028\n",
      "           8       0.95      0.94      0.94       974\n",
      "           9       0.95      0.93      0.94      1009\n",
      "\n",
      "    accuracy                           0.95     10000\n",
      "   macro avg       0.95      0.95      0.95     10000\n",
      "weighted avg       0.95      0.95      0.95     10000\n",
      "\n"
     ]
    }
   ],
   "source": [
    "evaluate(\n",
    "    model = model,\n",
    "    data_loader = test_loader,  # evaluate on testing data\n",
    "    criterion = criterion,\n",
    "    device = DEVICE,\n",
    ")"
   ]
  },
  {
   "cell_type": "code",
   "execution_count": null,
   "metadata": {},
   "outputs": [],
   "source": []
  }
 ],
 "metadata": {
  "kernelspec": {
   "display_name": "aiml25-ma1",
   "language": "python",
   "name": "python3"
  },
  "language_info": {
   "codemirror_mode": {
    "name": "ipython",
    "version": 3
   },
   "file_extension": ".py",
   "mimetype": "text/x-python",
   "name": "python",
   "nbconvert_exporter": "python",
   "pygments_lexer": "ipython3",
   "version": "3.13.1"
  }
 },
 "nbformat": 4,
 "nbformat_minor": 2
}
